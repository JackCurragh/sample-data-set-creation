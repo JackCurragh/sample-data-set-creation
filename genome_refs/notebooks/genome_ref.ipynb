{
 "cells": [
  {
   "cell_type": "markdown",
   "metadata": {},
   "source": [
    "# Jupyter Notebook for the generation of a suitable protein coding subseted genome"
   ]
  },
  {
   "cell_type": "markdown",
   "metadata": {},
   "source": [
    "Run the required installs"
   ]
  },
  {
   "cell_type": "code",
   "execution_count": 2,
   "metadata": {},
   "outputs": [
    {
     "name": "stdout",
     "output_type": "stream",
     "text": [
      "Requirement already satisfied: pandas in /home/jack/anaconda3/envs/sample-dataset-creation_genome-ref/lib/python3.12/site-packages (2.1.3)\n",
      "Requirement already satisfied: biopython in /home/jack/anaconda3/envs/sample-dataset-creation_genome-ref/lib/python3.12/site-packages (1.81)\n",
      "Requirement already satisfied: gffpandas in /home/jack/anaconda3/envs/sample-dataset-creation_genome-ref/lib/python3.12/site-packages (1.2.0)\n",
      "Requirement already satisfied: numpy<2,>=1.26.0 in /home/jack/anaconda3/envs/sample-dataset-creation_genome-ref/lib/python3.12/site-packages (from pandas) (1.26.2)\n",
      "Requirement already satisfied: python-dateutil>=2.8.2 in /home/jack/anaconda3/envs/sample-dataset-creation_genome-ref/lib/python3.12/site-packages (from pandas) (2.8.2)\n",
      "Requirement already satisfied: pytz>=2020.1 in /home/jack/anaconda3/envs/sample-dataset-creation_genome-ref/lib/python3.12/site-packages (from pandas) (2023.3.post1)\n",
      "Requirement already satisfied: tzdata>=2022.1 in /home/jack/anaconda3/envs/sample-dataset-creation_genome-ref/lib/python3.12/site-packages (from pandas) (2023.3)\n",
      "Requirement already satisfied: six>=1.5 in /home/jack/anaconda3/envs/sample-dataset-creation_genome-ref/lib/python3.12/site-packages (from python-dateutil>=2.8.2->pandas) (1.16.0)\n"
     ]
    }
   ],
   "source": [
    "!pip install pandas biopython gffpandas"
   ]
  },
  {
   "cell_type": "code",
   "execution_count": 3,
   "metadata": {},
   "outputs": [],
   "source": [
    "from Bio import SeqIO\n",
    "import gffpandas.gffpandas as gffpd\n",
    "import gzip\n",
    "import pandas as pd"
   ]
  },
  {
   "cell_type": "code",
   "execution_count": 51,
   "metadata": {},
   "outputs": [],
   "source": [
    "reference_fasta = \"../data/GRCh38.primary_assembly.genome.fa.gz\"\n",
    "reference_gtf = \"../data/chr12_gencode_v44.annotation.gtf\"\n",
    "\n",
    "subset_coordinates = \"chr12:6,487,526-6,616,396\" \n",
    "chromosome, coords = subset_coordinates.split(\":\")"
   ]
  },
  {
   "cell_type": "code",
   "execution_count": 5,
   "metadata": {},
   "outputs": [],
   "source": [
    "def read_gzipped_fasta(path: str) -> dict[str: dict[str: str]]:\n",
    "    with gzip.open(path, \"rt\") as handle:\n",
    "        fasta = SeqIO.to_dict(SeqIO.parse(handle, \"fasta\"))\n",
    "    return fasta"
   ]
  },
  {
   "cell_type": "code",
   "execution_count": 7,
   "metadata": {},
   "outputs": [],
   "source": [
    "fasta_record = read_gzipped_fasta(reference_fasta)\n"
   ]
  },
  {
   "cell_type": "code",
   "execution_count": 18,
   "metadata": {},
   "outputs": [],
   "source": [
    "def subset_fasta(fasta_record: SeqIO.SeqRecord, subset_coordinates: str) -> SeqIO.SeqRecord:\n",
    "    chromosome, coords = subset_coordinates.split(\":\")\n",
    "    start, end = coords.split(\"-\")\n",
    "    start = int(start.replace(\",\", \"\"))\n",
    "    end = int(end.replace(\",\", \"\"))\n",
    "    return fasta_record[chromosome][start:end]"
   ]
  },
  {
   "cell_type": "code",
   "execution_count": 22,
   "metadata": {},
   "outputs": [],
   "source": [
    "def write_fasta(fasta_record: SeqIO.SeqRecord, output_path: str) -> None:\n",
    "    with open(output_path, \"w\") as handle:\n",
    "        SeqIO.write(fasta_record, handle, \"fasta\")"
   ]
  },
  {
   "cell_type": "code",
   "execution_count": 23,
   "metadata": {},
   "outputs": [],
   "source": [
    "subsetted_fasta = subset_fasta(fasta_record, subset_coordinates)\n",
    "write_fasta(subsetted_fasta, \"../data/chr12.genome.fasta\")"
   ]
  },
  {
   "cell_type": "markdown",
   "metadata": {},
   "source": [
    "On second run through I decided to try the full chr22 as it is smallest"
   ]
  },
  {
   "cell_type": "code",
   "execution_count": 53,
   "metadata": {},
   "outputs": [],
   "source": [
    "write_fasta(fasta_record[\"chr22\"], \"../data/full_chr22.genome.fasta\")"
   ]
  },
  {
   "cell_type": "markdown",
   "metadata": {},
   "source": [
    "# Update GTF\n",
    "At this point the gtf has already been decompressed and subsetted to the chromosome of relevance"
   ]
  },
  {
   "cell_type": "code",
   "execution_count": 24,
   "metadata": {},
   "outputs": [],
   "source": [
    "def read_gtf(path: str) -> pd.DataFrame:\n",
    "    gtf = gffpd.read_gff3(path)\n",
    "    return gtf.df"
   ]
  },
  {
   "cell_type": "markdown",
   "metadata": {},
   "source": [
    "Load and ensure that it just contains entries for your chromosome "
   ]
  },
  {
   "cell_type": "code",
   "execution_count": 45,
   "metadata": {},
   "outputs": [
    {
     "data": {
      "text/plain": [
       "seq_id\n",
       "chr12    188637\n",
       "Name: count, dtype: int64"
      ]
     },
     "execution_count": 45,
     "metadata": {},
     "output_type": "execute_result"
    }
   ],
   "source": [
    "gtf_record = read_gtf(reference_gtf)\n",
    "gtf_record.value_counts(\"seq_id\")\n"
   ]
  },
  {
   "cell_type": "code",
   "execution_count": 46,
   "metadata": {},
   "outputs": [],
   "source": [
    "def update_gtf_coordinates(gtf_record: pd.DataFrame, subset_coordinates: str) -> pd.DataFrame:\n",
    "    chromosome, coords = subset_coordinates.split(\":\")\n",
    "    start, end = coords.split(\"-\")\n",
    "    start = int(start.replace(\",\", \"\"))\n",
    "    end = int(end.replace(\",\", \"\"))\n",
    "    gtf_record[\"start\"] = gtf_record[\"start\"] - start\n",
    "    gtf_record[\"end\"] = gtf_record[\"end\"] - start\n",
    "    gtf_record = gtf_record[(gtf_record[\"start\"] >= 0) & (gtf_record[\"end\"] <= end - start)]\n",
    "    gtf_record[\"seq_id\"] = chromosome\n",
    "    return gtf_record"
   ]
  },
  {
   "cell_type": "code",
   "execution_count": 47,
   "metadata": {},
   "outputs": [
    {
     "name": "stderr",
     "output_type": "stream",
     "text": [
      "/tmp/ipykernel_8951/49183473.py:9: SettingWithCopyWarning: \n",
      "A value is trying to be set on a copy of a slice from a DataFrame.\n",
      "Try using .loc[row_indexer,col_indexer] = value instead\n",
      "\n",
      "See the caveats in the documentation: https://pandas.pydata.org/pandas-docs/stable/user_guide/indexing.html#returning-a-view-versus-a-copy\n",
      "  gtf_record[\"seq_id\"] = chromosome\n"
     ]
    }
   ],
   "source": [
    "updated_gtf = update_gtf_coordinates(gtf_record, subset_coordinates)"
   ]
  },
  {
   "cell_type": "code",
   "execution_count": 49,
   "metadata": {},
   "outputs": [],
   "source": [
    "# write gtf file\n",
    "updated_gtf.to_csv(\"../data/chr12.gtf\", sep=\"\\t\", index=False, header=False, quoting=3)"
   ]
  },
  {
   "cell_type": "code",
   "execution_count": 54,
   "metadata": {},
   "outputs": [],
   "source": [
    "chr22_gtf = \"../data/chr22_gencode_v44.annotation.gtf\"\n",
    "chr22_gtf_record = read_gtf(chr22_gtf)\n",
    "chr22_start = chr22_gtf_record[\"start\"].min()\n",
    "chr22_end = chr22_gtf_record[\"end\"].max()\n",
    "chr22_updated_gtf = update_gtf_coordinates(chr22_gtf_record, f\"chr22:{chr22_start}-{chr22_end}\")\n",
    "chr22_updated_gtf.to_csv(\"../data/chr22.gtf\", sep=\"\\t\", index=False, header=False, quoting=3)"
   ]
  },
  {
   "cell_type": "code",
   "execution_count": 56,
   "metadata": {},
   "outputs": [
    {
     "data": {
      "text/plain": [
       "(10736171, 50801309, 40065138)"
      ]
     },
     "execution_count": 56,
     "metadata": {},
     "output_type": "execute_result"
    }
   ],
   "source": [
    "chr22_start, chr22_end, chr22_end - chr22_start"
   ]
  }
 ],
 "metadata": {
  "kernelspec": {
   "display_name": "sample-dataset-creation_genome-ref",
   "language": "python",
   "name": "python3"
  },
  "language_info": {
   "codemirror_mode": {
    "name": "ipython",
    "version": 3
   },
   "file_extension": ".py",
   "mimetype": "text/x-python",
   "name": "python",
   "nbconvert_exporter": "python",
   "pygments_lexer": "ipython3",
   "version": "3.12.0"
  }
 },
 "nbformat": 4,
 "nbformat_minor": 2
}
